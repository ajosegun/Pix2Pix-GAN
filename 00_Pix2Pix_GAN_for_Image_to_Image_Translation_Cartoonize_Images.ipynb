{
  "nbformat": 4,
  "nbformat_minor": 0,
  "metadata": {
    "colab": {
      "provenance": [],
      "toc_visible": true
    },
    "kernelspec": {
      "name": "python3",
      "display_name": "Python 3"
    },
    "language_info": {
      "name": "python"
    }
  },
  "cells": [
    {
      "cell_type": "code",
      "source": [
        "!pip install gdown\n"
      ],
      "metadata": {
        "colab": {
          "base_uri": "https://localhost:8080/"
        },
        "id": "B9Q8KA7sst-_",
        "outputId": "d3b75d32-13a9-4dbd-9f43-7261925cd772"
      },
      "execution_count": 1,
      "outputs": [
        {
          "output_type": "stream",
          "name": "stdout",
          "text": [
            "Looking in indexes: https://pypi.org/simple, https://us-python.pkg.dev/colab-wheels/public/simple/\n",
            "Requirement already satisfied: gdown in /usr/local/lib/python3.10/dist-packages (4.6.6)\n",
            "Requirement already satisfied: filelock in /usr/local/lib/python3.10/dist-packages (from gdown) (3.12.0)\n",
            "Requirement already satisfied: requests[socks] in /usr/local/lib/python3.10/dist-packages (from gdown) (2.27.1)\n",
            "Requirement already satisfied: six in /usr/local/lib/python3.10/dist-packages (from gdown) (1.16.0)\n",
            "Requirement already satisfied: tqdm in /usr/local/lib/python3.10/dist-packages (from gdown) (4.65.0)\n",
            "Requirement already satisfied: beautifulsoup4 in /usr/local/lib/python3.10/dist-packages (from gdown) (4.11.2)\n",
            "Requirement already satisfied: soupsieve>1.2 in /usr/local/lib/python3.10/dist-packages (from beautifulsoup4->gdown) (2.4.1)\n",
            "Requirement already satisfied: urllib3<1.27,>=1.21.1 in /usr/local/lib/python3.10/dist-packages (from requests[socks]->gdown) (1.26.15)\n",
            "Requirement already satisfied: certifi>=2017.4.17 in /usr/local/lib/python3.10/dist-packages (from requests[socks]->gdown) (2022.12.7)\n",
            "Requirement already satisfied: charset-normalizer~=2.0.0 in /usr/local/lib/python3.10/dist-packages (from requests[socks]->gdown) (2.0.12)\n",
            "Requirement already satisfied: idna<4,>=2.5 in /usr/local/lib/python3.10/dist-packages (from requests[socks]->gdown) (3.4)\n",
            "Requirement already satisfied: PySocks!=1.5.7,>=1.5.6 in /usr/local/lib/python3.10/dist-packages (from requests[socks]->gdown) (1.7.1)\n",
            "\u001b[31mERROR: Operation cancelled by user\u001b[0m\u001b[31m\n",
            "\u001b[0m"
          ]
        }
      ]
    },
    {
      "cell_type": "code",
      "source": [
        "## might be useful\n",
        "## https://www.kaggle.com/code/issaloubani/face-generator/notebook"
      ],
      "metadata": {
        "id": "wsxKcB7vu5qF"
      },
      "execution_count": null,
      "outputs": []
    },
    {
      "cell_type": "code",
      "execution_count": 2,
      "metadata": {
        "id": "bsepxFapVXZI"
      },
      "outputs": [],
      "source": [
        "import cv2\n",
        "import os\n",
        "import zipfile\n",
        "import gdown\n",
        "import numpy as np\n",
        "\n",
        "from google.colab.patches import cv2_imshow\n"
      ]
    },
    {
      "cell_type": "code",
      "source": [
        "# ### path to dataset; donwload, extract and put path as dataset_path\n",
        "# ### note that it is about 30k images; select a subset for fast testing\n",
        "# ### https://drive.google.com/file/d/1badu11NqxGf6qM3PTTooQDJvQbejgbTv/view?usp=share_link\n",
        "\n",
        "# url = 'https://drive.google.com/uc?id=1badu11NqxGf6qM3PTTooQDJvQbejgbTv'\n",
        "# output_zip = 'CelebAMask-HQ.zip'\n",
        "\n",
        "# gdown.download(url, output_zip, quiet=False)\n"
      ],
      "metadata": {
        "colab": {
          "base_uri": "https://localhost:8080/"
        },
        "id": "7d2YZ1M2WW_-",
        "outputId": "cc9c78e3-dc8c-47f4-924a-a3fc099402ab"
      },
      "execution_count": null,
      "outputs": [
        {
          "output_type": "stream",
          "name": "stdout",
          "text": [
            "Access denied with the following error:\n"
          ]
        },
        {
          "output_type": "stream",
          "name": "stderr",
          "text": [
            "\n",
            " \tToo many users have viewed or downloaded this file recently. Please\n",
            "\ttry accessing the file again later. If the file you are trying to\n",
            "\taccess is particularly large or is shared with many people, it may\n",
            "\ttake up to 24 hours to be able to view or download the file. If you\n",
            "\tstill can't access a file after 24 hours, contact your domain\n",
            "\tadministrator. \n",
            "\n",
            "You may still be able to access the file from the browser:\n",
            "\n",
            "\t https://drive.google.com/uc?id=1badu11NqxGf6qM3PTTooQDJvQbejgbTv \n",
            "\n"
          ]
        }
      ]
    },
    {
      "cell_type": "code",
      "source": [
        "## Drive path\n",
        "from google.colab import drive\n",
        "drive.mount('/content/gdrive')"
      ],
      "metadata": {
        "id": "aFhxYjN9awxS",
        "colab": {
          "base_uri": "https://localhost:8080/"
        },
        "outputId": "95d43116-753c-4960-f909-a09bb6dfc9be"
      },
      "execution_count": 3,
      "outputs": [
        {
          "output_type": "stream",
          "name": "stdout",
          "text": [
            "Mounted at /content/gdrive\n"
          ]
        }
      ]
    },
    {
      "cell_type": "code",
      "source": [
        "\n",
        "\n",
        "# train\n",
        "#  - real\n",
        "#  - cartoon\n",
        "\n",
        "# val\n",
        "#  - real\n",
        "#  - cartoon\n",
        "\n",
        "#### Generate for train\n",
        "# Path to the dataset\n",
        "dataset_path = \"/content/gdrive/MyDrive/Colab Notebooks/aivancity/Computer Vision/dataset/celeb_gan/train/real/\"\n",
        "\n",
        "# Path to save the output dataset\n",
        "output_path = \"/content/gdrive/MyDrive/Colab Notebooks/aivancity/Computer Vision/dataset/celeb_gan/train/cartoon/\"\n",
        "\n",
        "# #### Generate for val\n",
        "# # Path to the dataset\n",
        "# dataset_path = \"/content/gdrive/MyDrive/Colab Notebooks/aivancity/Computer Vision/dataset/celeb_gan/val/real\"\n",
        "\n",
        "# # Path to save the output dataset\n",
        "# output_path = \"/content/gdrive/MyDrive/Colab Notebooks/aivancity/Computer Vision/dataset/celeb_gan/val/cartoon/\"\n",
        "\n",
        "# Load the image file names from the dataset folder\n",
        "image_files = os.listdir(dataset_path)\n",
        "\n",
        "# image_files = image_files[:100]  ### slice the number of images you want\n",
        "print(f\"Number of images {len(image_files)}\")"
      ],
      "metadata": {
        "id": "PWM1QC6blcc4",
        "colab": {
          "base_uri": "https://localhost:8080/"
        },
        "outputId": "d7184bbb-984b-422c-d050-0b4ba91d2ea5"
      },
      "execution_count": 4,
      "outputs": [
        {
          "output_type": "stream",
          "name": "stdout",
          "text": [
            "Number of images 2001\n"
          ]
        }
      ]
    },
    {
      "cell_type": "code",
      "source": [
        "def cartoonize(the_img):\n",
        "  ### tweak here for different styles\n",
        "  # cartoon_img = cv2.stylization(the_img, sigma_s=70, sigma_r=0.5)\n",
        "  cartoon_img = cv2.stylization(the_img, sigma_s=60, sigma_r=0.5)\n",
        "\n",
        "  return cartoon_img\n",
        "\n",
        "path = dataset_path + \"/\" + os.listdir(dataset_path)[0]\n",
        "src_img = cv2.imread(path)\n",
        "cv2_imshow(cv2.resize(src_img, (0,0), fx=0.3, fy=0.3))\n",
        "cv2_imshow(cv2.resize(cartoonize(src_img), (0,0), fx=0.3, fy=0.3))"
      ],
      "metadata": {
        "id": "44p0JjulZUDH"
      },
      "execution_count": 7,
      "outputs": []
    },
    {
      "cell_type": "code",
      "source": [
        "# Loop through each image file and apply the cartoonization function\n",
        "for image_file in image_files:\n",
        "  # Load the image\n",
        "  image_path = os.path.join(dataset_path, image_file)\n",
        "  image = cv2.imread(image_path)\n",
        "  \n",
        "  # Apply the cartoonization function\n",
        "  cartoon = cartoonize(image)\n",
        "  \n",
        "  # Save the cartoonized image\n",
        "  output_file = os.path.join(output_path, image_file)\n",
        "  cv2.imwrite(output_file, cartoon)"
      ],
      "metadata": {
        "id": "nz0g4YjJZT_o"
      },
      "execution_count": 8,
      "outputs": []
    },
    {
      "cell_type": "code",
      "source": [
        "\n",
        "# Split the dataset into train and test parts (80% for train, 20% for test)\n",
        "num_images = len(image_files)\n",
        "num_train = int(num_images * 0.8)\n",
        "train_files = image_files[:num_train]\n",
        "test_files = image_files[num_train:]\n"
      ],
      "metadata": {
        "id": "0hzLNswqZT8R"
      },
      "execution_count": null,
      "outputs": []
    },
    {
      "cell_type": "code",
      "source": [
        "print(\"Total number of images:\", num_images)\n",
        "print(\"Number of training images:\", len(train_files))\n",
        "print(\"Number of testing images:\", len(test_files))\n"
      ],
      "metadata": {
        "colab": {
          "base_uri": "https://localhost:8080/"
        },
        "id": "En-uNSLkZT43",
        "outputId": "fdebd0c9-3aa8-4aff-abd6-4b3814a3d2ca"
      },
      "execution_count": null,
      "outputs": [
        {
          "output_type": "stream",
          "name": "stdout",
          "text": [
            "Total number of images: 101\n",
            "Number of training images: 80\n",
            "Number of testing images: 21\n"
          ]
        }
      ]
    },
    {
      "cell_type": "code",
      "source": [],
      "metadata": {
        "id": "wpeg2WtIWWrK"
      },
      "execution_count": null,
      "outputs": []
    },
    {
      "cell_type": "code",
      "source": [],
      "metadata": {
        "id": "_TOA5ETAf0Av"
      },
      "execution_count": null,
      "outputs": []
    },
    {
      "cell_type": "code",
      "source": [],
      "metadata": {
        "id": "bsKl6Vrhf0G1"
      },
      "execution_count": null,
      "outputs": []
    },
    {
      "cell_type": "code",
      "source": [],
      "metadata": {
        "id": "DLni-BaEf0Lc"
      },
      "execution_count": null,
      "outputs": []
    },
    {
      "cell_type": "code",
      "source": [],
      "metadata": {
        "id": "i3iQk0u8f0Pn"
      },
      "execution_count": null,
      "outputs": []
    },
    {
      "cell_type": "code",
      "source": [],
      "metadata": {
        "id": "yayMpc09f0UI"
      },
      "execution_count": null,
      "outputs": []
    },
    {
      "cell_type": "code",
      "source": [],
      "metadata": {
        "id": "3_oMzaFAWWmt"
      },
      "execution_count": null,
      "outputs": []
    }
  ]
}